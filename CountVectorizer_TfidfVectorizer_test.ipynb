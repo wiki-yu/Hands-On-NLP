{
  "nbformat": 4,
  "nbformat_minor": 0,
  "metadata": {
    "colab": {
      "name": "CountVectorizer_TfidfVectorizer_test.ipynb",
      "provenance": []
    },
    "kernelspec": {
      "name": "python3",
      "display_name": "Python 3"
    }
  },
  "cells": [
    {
      "cell_type": "code",
      "metadata": {
        "id": "TNCvyfUmVjLo",
        "colab_type": "code",
        "colab": {}
      },
      "source": [
        "from sklearn.feature_extraction.text import CountVectorizer\n",
        "from sklearn.feature_extraction.text import TfidfVectorizer\n",
        "import pandas as pd"
      ],
      "execution_count": 0,
      "outputs": []
    },
    {
      "cell_type": "code",
      "metadata": {
        "id": "aZLCWUFtGMUR",
        "colab_type": "code",
        "colab": {}
      },
      "source": [
        "#convert text to word count vectors with CountVectorizer.\n",
        "#convert text to word frequency vectors with TfidfVectorizer."
      ],
      "execution_count": 0,
      "outputs": []
    },
    {
      "cell_type": "code",
      "metadata": {
        "id": "yG-ySuu9uFkh",
        "colab_type": "code",
        "colab": {}
      },
      "source": [
        "#text data\n",
        "text = [\"I love my cat but the cat sat on my face.\", \n",
        "        \"I love my dog but the dog sat on my bed\",\n",
        "        \"I love my bird but the bird sat on my blanket\"]"
      ],
      "execution_count": 0,
      "outputs": []
    },
    {
      "cell_type": "code",
      "metadata": {
        "id": "e9PqbCZPuKOt",
        "colab_type": "code",
        "colab": {
          "base_uri": "https://localhost:8080/",
          "height": 212
        },
        "outputId": "8710bfe1-c8a7-4482-cdd7-ac9fb392e045"
      },
      "source": [
        "cv = CountVectorizer(text)\n",
        "count_vector = cv.fit_transform(text)\n",
        "print(cv.vocabulary_)\n",
        "print(cv.stop_words_)\n",
        "print(count_vector.shape)\n",
        "#count_vector[1] shows less than count_vector.shape[1].\n",
        "print(count_vector[1])"
      ],
      "execution_count": 134,
      "outputs": [
        {
          "output_type": "stream",
          "text": [
            "{'love': 7, 'my': 8, 'cat': 4, 'but': 3, 'the': 11, 'sat': 10, 'on': 9, 'face': 6, 'dog': 5, 'bed': 0, 'bird': 1, 'blanket': 2}\n",
            "(3, 12)\n",
            "set()\n",
            "  (0, 7)\t1\n",
            "  (0, 8)\t2\n",
            "  (0, 3)\t1\n",
            "  (0, 11)\t1\n",
            "  (0, 10)\t1\n",
            "  (0, 9)\t1\n",
            "  (0, 5)\t2\n",
            "  (0, 0)\t1\n"
          ],
          "name": "stdout"
        }
      ]
    },
    {
      "cell_type": "code",
      "metadata": {
        "id": "LeVRPBM-v7k9",
        "colab_type": "code",
        "colab": {
          "base_uri": "https://localhost:8080/",
          "height": 70
        },
        "outputId": "97bb0a2d-28d2-472c-ca7f-850493886100"
      },
      "source": [
        "#exclude some stop words which are not meaningful\n",
        "cv = CountVectorizer(text, stop_words=[\"the\",\"on\",\"and\"])\n",
        "count_vector = cv.fit_transform(text)\n",
        "print(cv.vocabulary_)\n",
        "print(cv.stop_words_)\n",
        "print(count_vector.shape)"
      ],
      "execution_count": 135,
      "outputs": [
        {
          "output_type": "stream",
          "text": [
            "{'love': 7, 'my': 8, 'cat': 4, 'but': 3, 'sat': 9, 'face': 6, 'dog': 5, 'bed': 0, 'bird': 1, 'blanket': 2}\n",
            "set()\n",
            "(3, 10)\n"
          ],
          "name": "stdout"
        }
      ]
    },
    {
      "cell_type": "code",
      "metadata": {
        "id": "SwtVeJ0HxImS",
        "colab_type": "code",
        "colab": {
          "base_uri": "https://localhost:8080/",
          "height": 70
        },
        "outputId": "b2553ff3-5d93-4d38-f9a7-0cc239b9ddfc"
      },
      "source": [
        "#ignore terms that appeared in less than 2 documents \n",
        "cv = CountVectorizer(text, min_df=2)\n",
        "count_vector = cv.fit_transform(text)\n",
        "print(cv.vocabulary_)\n",
        "print(cv.stop_words_)\n",
        "print(count_vector.shape)"
      ],
      "execution_count": 136,
      "outputs": [
        {
          "output_type": "stream",
          "text": [
            "{'love': 1, 'my': 2, 'but': 0, 'the': 5, 'sat': 4, 'on': 3}\n",
            "{'cat', 'dog', 'face', 'bed', 'bird', 'blanket'}\n",
            "(3, 6)\n"
          ],
          "name": "stdout"
        }
      ]
    },
    {
      "cell_type": "code",
      "metadata": {
        "id": "al5DugGi0hCT",
        "colab_type": "code",
        "colab": {
          "base_uri": "https://localhost:8080/",
          "height": 70
        },
        "outputId": "f3812a1f-2560-4b23-d194-ebd5f3362855"
      },
      "source": [
        "# ignore terms that appear in 50% of the documents\n",
        "cv = CountVectorizer(text, max_df=0.50)\n",
        "count_vector=cv.fit_transform(text)\n",
        "print(cv.vocabulary_)\n",
        "print(cv.stop_words_)\n",
        "print(count_vector.shape)"
      ],
      "execution_count": 137,
      "outputs": [
        {
          "output_type": "stream",
          "text": [
            "{'cat': 3, 'face': 5, 'dog': 4, 'bed': 0, 'bird': 1, 'blanket': 2}\n",
            "{'sat', 'my', 'but', 'love', 'on', 'the'}\n",
            "(3, 6)\n"
          ],
          "name": "stdout"
        }
      ]
    },
    {
      "cell_type": "code",
      "metadata": {
        "id": "ecvN9FWG3YMn",
        "colab_type": "code",
        "colab": {}
      },
      "source": [
        "#Custom Tokenization\n",
        "#Custom Preprocessing"
      ],
      "execution_count": 0,
      "outputs": []
    },
    {
      "cell_type": "code",
      "metadata": {
        "id": "Obt-ZDvv24ki",
        "colab_type": "code",
        "colab": {
          "base_uri": "https://localhost:8080/",
          "height": 90
        },
        "outputId": "68706858-8d0b-4ed3-c75a-6f951916533c"
      },
      "source": [
        "#bi-grams and tri-grams can capture contextual information compared to just unigrams\n",
        "#e.g, good food carries more meaning than just good and food when observed independently.\n",
        "# only bigrams, word level\n",
        "cv = CountVectorizer(text, ngram_range=(2,2))\n",
        "count_vector = cv.fit_transform(text)\n",
        "print(cv.vocabulary_)\n",
        "print(cv.stop_words_)\n",
        "print(count_vector.shape)"
      ],
      "execution_count": 139,
      "outputs": [
        {
          "output_type": "stream",
          "text": [
            "{'love my': 7, 'my cat': 11, 'cat but': 3, 'but the': 2, 'the cat': 17, 'cat sat': 4, 'sat on': 15, 'on my': 14, 'my face': 13, 'my dog': 12, 'dog but': 5, 'the dog': 18, 'dog sat': 6, 'my bed': 8, 'my bird': 9, 'bird but': 0, 'the bird': 16, 'bird sat': 1, 'my blanket': 10}\n",
            "set()\n",
            "(3, 19)\n"
          ],
          "name": "stdout"
        }
      ]
    },
    {
      "cell_type": "code",
      "metadata": {
        "id": "rmjnkixp3XlQ",
        "colab_type": "code",
        "colab": {
          "base_uri": "https://localhost:8080/",
          "height": 90
        },
        "outputId": "4f22e44b-281e-4800-c364-41f6db3623c8"
      },
      "source": [
        "# unigrams and bigrams, word level\n",
        "cv = CountVectorizer(text, ngram_range=(1,2))\n",
        "count_vector = cv.fit_transform(text)\n",
        "print(cv.vocabulary_)\n",
        "print(cv.stop_words_)\n",
        "print(count_vector.shape)"
      ],
      "execution_count": 140,
      "outputs": [
        {
          "output_type": "stream",
          "text": [
            "{'love': 14, 'my': 16, 'cat': 7, 'but': 5, 'the': 27, 'sat': 25, 'on': 23, 'face': 13, 'love my': 15, 'my cat': 20, 'cat but': 8, 'but the': 6, 'the cat': 29, 'cat sat': 9, 'sat on': 26, 'on my': 24, 'my face': 22, 'dog': 10, 'bed': 0, 'my dog': 21, 'dog but': 11, 'the dog': 30, 'dog sat': 12, 'my bed': 17, 'bird': 1, 'blanket': 4, 'my bird': 18, 'bird but': 2, 'the bird': 28, 'bird sat': 3, 'my blanket': 19}\n",
            "set()\n",
            "(3, 31)\n"
          ],
          "name": "stdout"
        }
      ]
    },
    {
      "cell_type": "code",
      "metadata": {
        "id": "Rrknx-uY3772",
        "colab_type": "code",
        "colab": {
          "base_uri": "https://localhost:8080/",
          "height": 70
        },
        "outputId": "20459a67-38d8-4af5-d6c5-9d283132b7da"
      },
      "source": [
        "#limit vocabulary size to 5\n",
        "cv = CountVectorizer(text, max_features=5)\n",
        "count_vector = cv.fit_transform(text)\n",
        "print(cv.vocabulary_)\n",
        "print(cv.stop_words_)\n",
        "print(count_vector.shape)"
      ],
      "execution_count": 141,
      "outputs": [
        {
          "output_type": "stream",
          "text": [
            "{'love': 1, 'my': 2, 'but': 0, 'sat': 4, 'on': 3}\n",
            "{'cat', 'dog', 'face', 'bed', 'the', 'bird', 'blanket'}\n",
            "(3, 5)\n"
          ],
          "name": "stdout"
        }
      ]
    },
    {
      "cell_type": "code",
      "metadata": {
        "id": "8cywATjQCKoi",
        "colab_type": "code",
        "colab": {
          "base_uri": "https://localhost:8080/",
          "height": 284
        },
        "outputId": "e5a78186-4595-4e57-b77a-4a01de311936"
      },
      "source": [
        "#try TfidfVectorizer\n",
        "vectorizer = TfidfVectorizer()\n",
        "X = vectorizer.fit_transform(text)\n",
        "\n",
        "feature_names = vectorizer.get_feature_names()\n",
        "print(feature_names)\n",
        "\n",
        "text_index = [i for i in text]\n",
        "print(text_index)\n",
        "\n",
        "df = pd.DataFrame(X.T.todense(), index = feature_names, columns = text_index)\n",
        "df.style\n"
      ],
      "execution_count": 142,
      "outputs": [
        {
          "output_type": "stream",
          "text": [
            "['bed', 'bird', 'blanket', 'but', 'cat', 'dog', 'face', 'love', 'my', 'on', 'sat', 'the']\n",
            "['I love my cat but the cat sat on my face.', 'I love my dog but the dog sat on my bed', 'I love my bird but the bird sat on my blanket']\n"
          ],
          "name": "stdout"
        },
        {
          "output_type": "execute_result",
          "data": {
            "text/html": [
              "<style  type=\"text/css\" >\n",
              "</style><table id=\"T_3df00684_4c50_11ea_94bc_0242ac1c0002\" ><thead>    <tr>        <th class=\"blank level0\" ></th>        <th class=\"col_heading level0 col0\" >I love my cat but the cat sat on my face.</th>        <th class=\"col_heading level0 col1\" >I love my dog but the dog sat on my bed</th>        <th class=\"col_heading level0 col2\" >I love my bird but the bird sat on my blanket</th>    </tr></thead><tbody>\n",
              "                <tr>\n",
              "                        <th id=\"T_3df00684_4c50_11ea_94bc_0242ac1c0002level0_row0\" class=\"row_heading level0 row0\" >bed</th>\n",
              "                        <td id=\"T_3df00684_4c50_11ea_94bc_0242ac1c0002row0_col0\" class=\"data row0 col0\" >0</td>\n",
              "                        <td id=\"T_3df00684_4c50_11ea_94bc_0242ac1c0002row0_col1\" class=\"data row0 col1\" >0.350512</td>\n",
              "                        <td id=\"T_3df00684_4c50_11ea_94bc_0242ac1c0002row0_col2\" class=\"data row0 col2\" >0</td>\n",
              "            </tr>\n",
              "            <tr>\n",
              "                        <th id=\"T_3df00684_4c50_11ea_94bc_0242ac1c0002level0_row1\" class=\"row_heading level0 row1\" >bird</th>\n",
              "                        <td id=\"T_3df00684_4c50_11ea_94bc_0242ac1c0002row1_col0\" class=\"data row1 col0\" >0</td>\n",
              "                        <td id=\"T_3df00684_4c50_11ea_94bc_0242ac1c0002row1_col1\" class=\"data row1 col1\" >0</td>\n",
              "                        <td id=\"T_3df00684_4c50_11ea_94bc_0242ac1c0002row1_col2\" class=\"data row1 col2\" >0.701023</td>\n",
              "            </tr>\n",
              "            <tr>\n",
              "                        <th id=\"T_3df00684_4c50_11ea_94bc_0242ac1c0002level0_row2\" class=\"row_heading level0 row2\" >blanket</th>\n",
              "                        <td id=\"T_3df00684_4c50_11ea_94bc_0242ac1c0002row2_col0\" class=\"data row2 col0\" >0</td>\n",
              "                        <td id=\"T_3df00684_4c50_11ea_94bc_0242ac1c0002row2_col1\" class=\"data row2 col1\" >0</td>\n",
              "                        <td id=\"T_3df00684_4c50_11ea_94bc_0242ac1c0002row2_col2\" class=\"data row2 col2\" >0.350512</td>\n",
              "            </tr>\n",
              "            <tr>\n",
              "                        <th id=\"T_3df00684_4c50_11ea_94bc_0242ac1c0002level0_row3\" class=\"row_heading level0 row3\" >but</th>\n",
              "                        <td id=\"T_3df00684_4c50_11ea_94bc_0242ac1c0002row3_col0\" class=\"data row3 col0\" >0.207018</td>\n",
              "                        <td id=\"T_3df00684_4c50_11ea_94bc_0242ac1c0002row3_col1\" class=\"data row3 col1\" >0.207018</td>\n",
              "                        <td id=\"T_3df00684_4c50_11ea_94bc_0242ac1c0002row3_col2\" class=\"data row3 col2\" >0.207018</td>\n",
              "            </tr>\n",
              "            <tr>\n",
              "                        <th id=\"T_3df00684_4c50_11ea_94bc_0242ac1c0002level0_row4\" class=\"row_heading level0 row4\" >cat</th>\n",
              "                        <td id=\"T_3df00684_4c50_11ea_94bc_0242ac1c0002row4_col0\" class=\"data row4 col0\" >0.701023</td>\n",
              "                        <td id=\"T_3df00684_4c50_11ea_94bc_0242ac1c0002row4_col1\" class=\"data row4 col1\" >0</td>\n",
              "                        <td id=\"T_3df00684_4c50_11ea_94bc_0242ac1c0002row4_col2\" class=\"data row4 col2\" >0</td>\n",
              "            </tr>\n",
              "            <tr>\n",
              "                        <th id=\"T_3df00684_4c50_11ea_94bc_0242ac1c0002level0_row5\" class=\"row_heading level0 row5\" >dog</th>\n",
              "                        <td id=\"T_3df00684_4c50_11ea_94bc_0242ac1c0002row5_col0\" class=\"data row5 col0\" >0</td>\n",
              "                        <td id=\"T_3df00684_4c50_11ea_94bc_0242ac1c0002row5_col1\" class=\"data row5 col1\" >0.701023</td>\n",
              "                        <td id=\"T_3df00684_4c50_11ea_94bc_0242ac1c0002row5_col2\" class=\"data row5 col2\" >0</td>\n",
              "            </tr>\n",
              "            <tr>\n",
              "                        <th id=\"T_3df00684_4c50_11ea_94bc_0242ac1c0002level0_row6\" class=\"row_heading level0 row6\" >face</th>\n",
              "                        <td id=\"T_3df00684_4c50_11ea_94bc_0242ac1c0002row6_col0\" class=\"data row6 col0\" >0.350512</td>\n",
              "                        <td id=\"T_3df00684_4c50_11ea_94bc_0242ac1c0002row6_col1\" class=\"data row6 col1\" >0</td>\n",
              "                        <td id=\"T_3df00684_4c50_11ea_94bc_0242ac1c0002row6_col2\" class=\"data row6 col2\" >0</td>\n",
              "            </tr>\n",
              "            <tr>\n",
              "                        <th id=\"T_3df00684_4c50_11ea_94bc_0242ac1c0002level0_row7\" class=\"row_heading level0 row7\" >love</th>\n",
              "                        <td id=\"T_3df00684_4c50_11ea_94bc_0242ac1c0002row7_col0\" class=\"data row7 col0\" >0.207018</td>\n",
              "                        <td id=\"T_3df00684_4c50_11ea_94bc_0242ac1c0002row7_col1\" class=\"data row7 col1\" >0.207018</td>\n",
              "                        <td id=\"T_3df00684_4c50_11ea_94bc_0242ac1c0002row7_col2\" class=\"data row7 col2\" >0.207018</td>\n",
              "            </tr>\n",
              "            <tr>\n",
              "                        <th id=\"T_3df00684_4c50_11ea_94bc_0242ac1c0002level0_row8\" class=\"row_heading level0 row8\" >my</th>\n",
              "                        <td id=\"T_3df00684_4c50_11ea_94bc_0242ac1c0002row8_col0\" class=\"data row8 col0\" >0.414036</td>\n",
              "                        <td id=\"T_3df00684_4c50_11ea_94bc_0242ac1c0002row8_col1\" class=\"data row8 col1\" >0.414036</td>\n",
              "                        <td id=\"T_3df00684_4c50_11ea_94bc_0242ac1c0002row8_col2\" class=\"data row8 col2\" >0.414036</td>\n",
              "            </tr>\n",
              "            <tr>\n",
              "                        <th id=\"T_3df00684_4c50_11ea_94bc_0242ac1c0002level0_row9\" class=\"row_heading level0 row9\" >on</th>\n",
              "                        <td id=\"T_3df00684_4c50_11ea_94bc_0242ac1c0002row9_col0\" class=\"data row9 col0\" >0.207018</td>\n",
              "                        <td id=\"T_3df00684_4c50_11ea_94bc_0242ac1c0002row9_col1\" class=\"data row9 col1\" >0.207018</td>\n",
              "                        <td id=\"T_3df00684_4c50_11ea_94bc_0242ac1c0002row9_col2\" class=\"data row9 col2\" >0.207018</td>\n",
              "            </tr>\n",
              "            <tr>\n",
              "                        <th id=\"T_3df00684_4c50_11ea_94bc_0242ac1c0002level0_row10\" class=\"row_heading level0 row10\" >sat</th>\n",
              "                        <td id=\"T_3df00684_4c50_11ea_94bc_0242ac1c0002row10_col0\" class=\"data row10 col0\" >0.207018</td>\n",
              "                        <td id=\"T_3df00684_4c50_11ea_94bc_0242ac1c0002row10_col1\" class=\"data row10 col1\" >0.207018</td>\n",
              "                        <td id=\"T_3df00684_4c50_11ea_94bc_0242ac1c0002row10_col2\" class=\"data row10 col2\" >0.207018</td>\n",
              "            </tr>\n",
              "            <tr>\n",
              "                        <th id=\"T_3df00684_4c50_11ea_94bc_0242ac1c0002level0_row11\" class=\"row_heading level0 row11\" >the</th>\n",
              "                        <td id=\"T_3df00684_4c50_11ea_94bc_0242ac1c0002row11_col0\" class=\"data row11 col0\" >0.207018</td>\n",
              "                        <td id=\"T_3df00684_4c50_11ea_94bc_0242ac1c0002row11_col1\" class=\"data row11 col1\" >0.207018</td>\n",
              "                        <td id=\"T_3df00684_4c50_11ea_94bc_0242ac1c0002row11_col2\" class=\"data row11 col2\" >0.207018</td>\n",
              "            </tr>\n",
              "    </tbody></table>"
            ],
            "text/plain": [
              "<pandas.io.formats.style.Styler at 0x7fa6b7a82e80>"
            ]
          },
          "metadata": {
            "tags": []
          },
          "execution_count": 142
        }
      ]
    }
  ]
}