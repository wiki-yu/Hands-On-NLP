{
  "nbformat": 4,
  "nbformat_minor": 0,
  "metadata": {
    "colab": {
      "name": "tfidf_nb_test.ipynb",
      "provenance": []
    },
    "kernelspec": {
      "name": "python3",
      "display_name": "Python 3"
    }
  },
  "cells": [
    {
      "cell_type": "code",
      "metadata": {
        "id": "VpSjX_MFJQeO",
        "colab_type": "code",
        "colab": {}
      },
      "source": [
        "from sklearn.feature_extraction.text import CountVectorizer\n",
        "from sklearn.feature_extraction.text import TfidfTransformer\n",
        "from sklearn.feature_extraction.text import TfidfVectorizer\n",
        "from sklearn.naive_bayes import MultinomialNB\n",
        "import pandas as pd\n",
        "import numpy as np\n",
        "import re\n",
        "import string \n",
        "from collections import Counter"
      ],
      "execution_count": 0,
      "outputs": []
    },
    {
      "cell_type": "markdown",
      "metadata": {
        "id": "Z5Frj3fYz2xN",
        "colab_type": "text"
      },
      "source": [
        "objective: compare "
      ]
    },
    {
      "cell_type": "markdown",
      "metadata": {
        "id": "sR3v9mssNnGG",
        "colab_type": "text"
      },
      "source": [
        "### 1.   Training vectors:\n",
        "*   (n_samples, n_features)\n",
        "*   n_samples is the number of samples and n_features is the number of features. \n",
        "\n",
        "### 2.   Label values: \n",
        "*   (n_samples,)\n",
        "*   n_samples is the number of samples\n",
        "\n",
        "\n",
        "\n",
        "\n",
        "\n"
      ]
    },
    {
      "cell_type": "code",
      "metadata": {
        "id": "6P8oFqMSJXxI",
        "colab_type": "code",
        "outputId": "faabc801-8b98-4b4b-a746-9a9913e7cdd3",
        "colab": {
          "base_uri": "https://localhost:8080/",
          "height": 34
        }
      },
      "source": [
        "text = [\"My daughter is smart, my daughter is cute\", \n",
        "        \"I have a beautiful daughter\",\n",
        "        \"it is very fluffy\", \n",
        "        \"it has a fluffy short tail\"]\n",
        "\n",
        "y_train = [\"human\", \"human\", \"animal\", \"animal\"]\n",
        "print(np.shape(text), np.shape(y_train))\n",
        "# if the train data is a list of strings, there would be erros, need to change to a numeric type.\n",
        "# clf = MultinomialNB()\n",
        "# clf.fit(document, label)"
      ],
      "execution_count": 2,
      "outputs": [
        {
          "output_type": "stream",
          "text": [
            "(4,) (4,)\n"
          ],
          "name": "stdout"
        }
      ]
    },
    {
      "cell_type": "code",
      "metadata": {
        "id": "bvy5dgDKPEbn",
        "colab_type": "code",
        "outputId": "02df5446-4a2c-411b-eeb8-2381611dcb9a",
        "colab": {
          "base_uri": "https://localhost:8080/",
          "height": 34
        }
      },
      "source": [
        "count_vect = CountVectorizer()\n",
        "X_train_counts = count_vect.fit_transform(text)\n",
        "\n",
        "tfidf_transformer = TfidfTransformer()\n",
        "X_train_tfidf = tfidf_transformer.fit_transform(X_train_counts)\n",
        "\n",
        "clf = MultinomialNB()\n",
        "clf.fit(X_train_tfidf, y_train)\n",
        "\n",
        "clf.predict(count_vect.transform([\"it is fluffy short tail\"]))"
      ],
      "execution_count": 3,
      "outputs": [
        {
          "output_type": "execute_result",
          "data": {
            "text/plain": [
              "array(['animal'], dtype='<U6')"
            ]
          },
          "metadata": {
            "tags": []
          },
          "execution_count": 3
        }
      ]
    },
    {
      "cell_type": "code",
      "metadata": {
        "id": "exzKUUzTAER5",
        "colab_type": "code",
        "colab": {}
      },
      "source": [
        "def create_vocabulary(text):\n",
        "    corpus = {}\n",
        "    for idx, sent in enumerate(text):\n",
        "            words = re.sub('['+string.punctuation+']', '', sent).split() \n",
        "            for word in words:\n",
        "                if word not in corpus:\n",
        "                    corpus[word] = []\n",
        "    print(corpus)           \n",
        "    return corpus"
      ],
      "execution_count": 0,
      "outputs": []
    },
    {
      "cell_type": "code",
      "metadata": {
        "id": "LtXJENdHFizv",
        "colab_type": "code",
        "colab": {}
      },
      "source": [
        "def create_word_counts(text, corpus):\n",
        "\n",
        "    for idx, sent in enumerate(text):\n",
        "        words = re.sub('['+string.punctuation+']', '', sent).split()\n",
        "\n",
        "        temp = {}\n",
        "        counts = Counter(words)\n",
        "        for key, value in counts.items():\n",
        "            temp[key] = value\n",
        "        print(temp.keys())\n",
        "\n",
        "        for word in corpus.keys():\n",
        "            if word in temp.keys():\n",
        "                corpus[word].append(temp[word])\n",
        "            else:\n",
        "                corpus[word].append(0)\n",
        "\n",
        "    df_counts = pd.DataFrame(corpus)\n",
        "    return df_counts"
      ],
      "execution_count": 0,
      "outputs": []
    },
    {
      "cell_type": "code",
      "metadata": {
        "id": "63UW5SXvFi4W",
        "colab_type": "code",
        "outputId": "32b353f6-ed7a-49b7-e069-fa0529956f90",
        "colab": {
          "base_uri": "https://localhost:8080/",
          "height": 257
        }
      },
      "source": [
        "corpus = create_vocabulary(text)\n",
        "df_counts = create_word_counts(text, corpus)\n",
        "df_counts.head(5)"
      ],
      "execution_count": 6,
      "outputs": [
        {
          "output_type": "stream",
          "text": [
            "{'My': [], 'daughter': [], 'is': [], 'smart': [], 'my': [], 'cute': [], 'I': [], 'have': [], 'a': [], 'beautiful': [], 'it': [], 'very': [], 'fluffy': [], 'has': [], 'short': [], 'tail': []}\n",
            "dict_keys(['My', 'daughter', 'is', 'smart', 'my', 'cute'])\n",
            "dict_keys(['I', 'have', 'a', 'beautiful', 'daughter'])\n",
            "dict_keys(['it', 'is', 'very', 'fluffy'])\n",
            "dict_keys(['it', 'has', 'a', 'fluffy', 'short', 'tail'])\n"
          ],
          "name": "stdout"
        },
        {
          "output_type": "execute_result",
          "data": {
            "text/html": [
              "<div>\n",
              "<style scoped>\n",
              "    .dataframe tbody tr th:only-of-type {\n",
              "        vertical-align: middle;\n",
              "    }\n",
              "\n",
              "    .dataframe tbody tr th {\n",
              "        vertical-align: top;\n",
              "    }\n",
              "\n",
              "    .dataframe thead th {\n",
              "        text-align: right;\n",
              "    }\n",
              "</style>\n",
              "<table border=\"1\" class=\"dataframe\">\n",
              "  <thead>\n",
              "    <tr style=\"text-align: right;\">\n",
              "      <th></th>\n",
              "      <th>My</th>\n",
              "      <th>daughter</th>\n",
              "      <th>is</th>\n",
              "      <th>smart</th>\n",
              "      <th>my</th>\n",
              "      <th>cute</th>\n",
              "      <th>I</th>\n",
              "      <th>have</th>\n",
              "      <th>a</th>\n",
              "      <th>beautiful</th>\n",
              "      <th>it</th>\n",
              "      <th>very</th>\n",
              "      <th>fluffy</th>\n",
              "      <th>has</th>\n",
              "      <th>short</th>\n",
              "      <th>tail</th>\n",
              "    </tr>\n",
              "  </thead>\n",
              "  <tbody>\n",
              "    <tr>\n",
              "      <th>0</th>\n",
              "      <td>1</td>\n",
              "      <td>2</td>\n",
              "      <td>2</td>\n",
              "      <td>1</td>\n",
              "      <td>1</td>\n",
              "      <td>1</td>\n",
              "      <td>0</td>\n",
              "      <td>0</td>\n",
              "      <td>0</td>\n",
              "      <td>0</td>\n",
              "      <td>0</td>\n",
              "      <td>0</td>\n",
              "      <td>0</td>\n",
              "      <td>0</td>\n",
              "      <td>0</td>\n",
              "      <td>0</td>\n",
              "    </tr>\n",
              "    <tr>\n",
              "      <th>1</th>\n",
              "      <td>0</td>\n",
              "      <td>1</td>\n",
              "      <td>0</td>\n",
              "      <td>0</td>\n",
              "      <td>0</td>\n",
              "      <td>0</td>\n",
              "      <td>1</td>\n",
              "      <td>1</td>\n",
              "      <td>1</td>\n",
              "      <td>1</td>\n",
              "      <td>0</td>\n",
              "      <td>0</td>\n",
              "      <td>0</td>\n",
              "      <td>0</td>\n",
              "      <td>0</td>\n",
              "      <td>0</td>\n",
              "    </tr>\n",
              "    <tr>\n",
              "      <th>2</th>\n",
              "      <td>0</td>\n",
              "      <td>0</td>\n",
              "      <td>1</td>\n",
              "      <td>0</td>\n",
              "      <td>0</td>\n",
              "      <td>0</td>\n",
              "      <td>0</td>\n",
              "      <td>0</td>\n",
              "      <td>0</td>\n",
              "      <td>0</td>\n",
              "      <td>1</td>\n",
              "      <td>1</td>\n",
              "      <td>1</td>\n",
              "      <td>0</td>\n",
              "      <td>0</td>\n",
              "      <td>0</td>\n",
              "    </tr>\n",
              "    <tr>\n",
              "      <th>3</th>\n",
              "      <td>0</td>\n",
              "      <td>0</td>\n",
              "      <td>0</td>\n",
              "      <td>0</td>\n",
              "      <td>0</td>\n",
              "      <td>0</td>\n",
              "      <td>0</td>\n",
              "      <td>0</td>\n",
              "      <td>1</td>\n",
              "      <td>0</td>\n",
              "      <td>1</td>\n",
              "      <td>0</td>\n",
              "      <td>1</td>\n",
              "      <td>1</td>\n",
              "      <td>1</td>\n",
              "      <td>1</td>\n",
              "    </tr>\n",
              "  </tbody>\n",
              "</table>\n",
              "</div>"
            ],
            "text/plain": [
              "   My  daughter  is  smart  my  cute  ...  it  very  fluffy  has  short  tail\n",
              "0   1         2   2      1   1     1  ...   0     0       0    0      0     0\n",
              "1   0         1   0      0   0     0  ...   0     0       0    0      0     0\n",
              "2   0         0   1      0   0     0  ...   1     1       1    0      0     0\n",
              "3   0         0   0      0   0     0  ...   1     0       1    1      1     1\n",
              "\n",
              "[4 rows x 16 columns]"
            ]
          },
          "metadata": {
            "tags": []
          },
          "execution_count": 6
        }
      ]
    },
    {
      "cell_type": "code",
      "metadata": {
        "id": "vfoReDkhQwmM",
        "colab_type": "code",
        "colab": {
          "base_uri": "https://localhost:8080/",
          "height": 169
        },
        "outputId": "8937ffb0-abdb-47b1-b9ed-2e1243aa7d86"
      },
      "source": [
        "# TF = (Number of times the word appears in a document)/(Number of words in the document)\n",
        "def create_tf(df_counts):\n",
        "    row_sum = df_counts.sum(axis=1)\n",
        "    df_tf = df_counts.div(row_sum, axis=0)\n",
        "    df_tf = df_tf.round(2)\n",
        "    return df_tf\n",
        " \n",
        "df_tf = create_tf(df_counts)\n",
        "df_tf.head(5)"
      ],
      "execution_count": 7,
      "outputs": [
        {
          "output_type": "execute_result",
          "data": {
            "text/html": [
              "<div>\n",
              "<style scoped>\n",
              "    .dataframe tbody tr th:only-of-type {\n",
              "        vertical-align: middle;\n",
              "    }\n",
              "\n",
              "    .dataframe tbody tr th {\n",
              "        vertical-align: top;\n",
              "    }\n",
              "\n",
              "    .dataframe thead th {\n",
              "        text-align: right;\n",
              "    }\n",
              "</style>\n",
              "<table border=\"1\" class=\"dataframe\">\n",
              "  <thead>\n",
              "    <tr style=\"text-align: right;\">\n",
              "      <th></th>\n",
              "      <th>My</th>\n",
              "      <th>daughter</th>\n",
              "      <th>is</th>\n",
              "      <th>smart</th>\n",
              "      <th>my</th>\n",
              "      <th>cute</th>\n",
              "      <th>I</th>\n",
              "      <th>have</th>\n",
              "      <th>a</th>\n",
              "      <th>beautiful</th>\n",
              "      <th>it</th>\n",
              "      <th>very</th>\n",
              "      <th>fluffy</th>\n",
              "      <th>has</th>\n",
              "      <th>short</th>\n",
              "      <th>tail</th>\n",
              "    </tr>\n",
              "  </thead>\n",
              "  <tbody>\n",
              "    <tr>\n",
              "      <th>0</th>\n",
              "      <td>0.12</td>\n",
              "      <td>0.25</td>\n",
              "      <td>0.25</td>\n",
              "      <td>0.12</td>\n",
              "      <td>0.12</td>\n",
              "      <td>0.12</td>\n",
              "      <td>0.0</td>\n",
              "      <td>0.0</td>\n",
              "      <td>0.00</td>\n",
              "      <td>0.0</td>\n",
              "      <td>0.00</td>\n",
              "      <td>0.00</td>\n",
              "      <td>0.00</td>\n",
              "      <td>0.00</td>\n",
              "      <td>0.00</td>\n",
              "      <td>0.00</td>\n",
              "    </tr>\n",
              "    <tr>\n",
              "      <th>1</th>\n",
              "      <td>0.00</td>\n",
              "      <td>0.20</td>\n",
              "      <td>0.00</td>\n",
              "      <td>0.00</td>\n",
              "      <td>0.00</td>\n",
              "      <td>0.00</td>\n",
              "      <td>0.2</td>\n",
              "      <td>0.2</td>\n",
              "      <td>0.20</td>\n",
              "      <td>0.2</td>\n",
              "      <td>0.00</td>\n",
              "      <td>0.00</td>\n",
              "      <td>0.00</td>\n",
              "      <td>0.00</td>\n",
              "      <td>0.00</td>\n",
              "      <td>0.00</td>\n",
              "    </tr>\n",
              "    <tr>\n",
              "      <th>2</th>\n",
              "      <td>0.00</td>\n",
              "      <td>0.00</td>\n",
              "      <td>0.25</td>\n",
              "      <td>0.00</td>\n",
              "      <td>0.00</td>\n",
              "      <td>0.00</td>\n",
              "      <td>0.0</td>\n",
              "      <td>0.0</td>\n",
              "      <td>0.00</td>\n",
              "      <td>0.0</td>\n",
              "      <td>0.25</td>\n",
              "      <td>0.25</td>\n",
              "      <td>0.25</td>\n",
              "      <td>0.00</td>\n",
              "      <td>0.00</td>\n",
              "      <td>0.00</td>\n",
              "    </tr>\n",
              "    <tr>\n",
              "      <th>3</th>\n",
              "      <td>0.00</td>\n",
              "      <td>0.00</td>\n",
              "      <td>0.00</td>\n",
              "      <td>0.00</td>\n",
              "      <td>0.00</td>\n",
              "      <td>0.00</td>\n",
              "      <td>0.0</td>\n",
              "      <td>0.0</td>\n",
              "      <td>0.17</td>\n",
              "      <td>0.0</td>\n",
              "      <td>0.17</td>\n",
              "      <td>0.00</td>\n",
              "      <td>0.17</td>\n",
              "      <td>0.17</td>\n",
              "      <td>0.17</td>\n",
              "      <td>0.17</td>\n",
              "    </tr>\n",
              "  </tbody>\n",
              "</table>\n",
              "</div>"
            ],
            "text/plain": [
              "     My  daughter    is  smart    my  ...  very  fluffy   has  short  tail\n",
              "0  0.12      0.25  0.25   0.12  0.12  ...  0.00    0.00  0.00   0.00  0.00\n",
              "1  0.00      0.20  0.00   0.00  0.00  ...  0.00    0.00  0.00   0.00  0.00\n",
              "2  0.00      0.00  0.25   0.00  0.00  ...  0.25    0.25  0.00   0.00  0.00\n",
              "3  0.00      0.00  0.00   0.00  0.00  ...  0.00    0.17  0.17   0.17  0.17\n",
              "\n",
              "[4 rows x 16 columns]"
            ]
          },
          "metadata": {
            "tags": []
          },
          "execution_count": 7
        }
      ]
    },
    {
      "cell_type": "code",
      "metadata": {
        "id": "B5qWrDzObQPD",
        "colab_type": "code",
        "colab": {
          "base_uri": "https://localhost:8080/",
          "height": 169
        },
        "outputId": "5b9b92bf-88a2-4e4e-d63f-5a0d329e8bd3"
      },
      "source": [
        "# IDF = log(N/n), where, N is the number of documents and n is the number of documents a word t has appeared in.\n",
        "# if a word shows up in all the documents, then log(N/n)=log(1)=0, if word shows up in only 1 document, then log(N/1)=log(N), relatively bigger value. \n",
        "def create_tfidf(df_counts, df_tf):\n",
        "    doc_amount = df_counts.shape[0]\n",
        "    no_show_amount = df_counts.isin([0]).sum()\n",
        "    idf = np.log(doc_amount / (doc_amount - no_show_amount))\n",
        "    tfidf = df_tf.mul(idf, axis=1)\n",
        "    tfidf = tfidf.round(4)\n",
        "    return tfidf\n",
        "create_tfidf(df_counts, df_tf)\n",
        "\n"
      ],
      "execution_count": 14,
      "outputs": [
        {
          "output_type": "execute_result",
          "data": {
            "text/html": [
              "<div>\n",
              "<style scoped>\n",
              "    .dataframe tbody tr th:only-of-type {\n",
              "        vertical-align: middle;\n",
              "    }\n",
              "\n",
              "    .dataframe tbody tr th {\n",
              "        vertical-align: top;\n",
              "    }\n",
              "\n",
              "    .dataframe thead th {\n",
              "        text-align: right;\n",
              "    }\n",
              "</style>\n",
              "<table border=\"1\" class=\"dataframe\">\n",
              "  <thead>\n",
              "    <tr style=\"text-align: right;\">\n",
              "      <th></th>\n",
              "      <th>My</th>\n",
              "      <th>daughter</th>\n",
              "      <th>is</th>\n",
              "      <th>smart</th>\n",
              "      <th>my</th>\n",
              "      <th>cute</th>\n",
              "      <th>I</th>\n",
              "      <th>have</th>\n",
              "      <th>a</th>\n",
              "      <th>beautiful</th>\n",
              "      <th>it</th>\n",
              "      <th>very</th>\n",
              "      <th>fluffy</th>\n",
              "      <th>has</th>\n",
              "      <th>short</th>\n",
              "      <th>tail</th>\n",
              "    </tr>\n",
              "  </thead>\n",
              "  <tbody>\n",
              "    <tr>\n",
              "      <th>0</th>\n",
              "      <td>0.1664</td>\n",
              "      <td>0.1733</td>\n",
              "      <td>0.1733</td>\n",
              "      <td>0.1664</td>\n",
              "      <td>0.1664</td>\n",
              "      <td>0.1664</td>\n",
              "      <td>0.0000</td>\n",
              "      <td>0.0000</td>\n",
              "      <td>0.0000</td>\n",
              "      <td>0.0000</td>\n",
              "      <td>0.0000</td>\n",
              "      <td>0.0000</td>\n",
              "      <td>0.0000</td>\n",
              "      <td>0.0000</td>\n",
              "      <td>0.0000</td>\n",
              "      <td>0.0000</td>\n",
              "    </tr>\n",
              "    <tr>\n",
              "      <th>1</th>\n",
              "      <td>0.0000</td>\n",
              "      <td>0.1386</td>\n",
              "      <td>0.0000</td>\n",
              "      <td>0.0000</td>\n",
              "      <td>0.0000</td>\n",
              "      <td>0.0000</td>\n",
              "      <td>0.2773</td>\n",
              "      <td>0.2773</td>\n",
              "      <td>0.1386</td>\n",
              "      <td>0.2773</td>\n",
              "      <td>0.0000</td>\n",
              "      <td>0.0000</td>\n",
              "      <td>0.0000</td>\n",
              "      <td>0.0000</td>\n",
              "      <td>0.0000</td>\n",
              "      <td>0.0000</td>\n",
              "    </tr>\n",
              "    <tr>\n",
              "      <th>2</th>\n",
              "      <td>0.0000</td>\n",
              "      <td>0.0000</td>\n",
              "      <td>0.1733</td>\n",
              "      <td>0.0000</td>\n",
              "      <td>0.0000</td>\n",
              "      <td>0.0000</td>\n",
              "      <td>0.0000</td>\n",
              "      <td>0.0000</td>\n",
              "      <td>0.0000</td>\n",
              "      <td>0.0000</td>\n",
              "      <td>0.1733</td>\n",
              "      <td>0.3466</td>\n",
              "      <td>0.1733</td>\n",
              "      <td>0.0000</td>\n",
              "      <td>0.0000</td>\n",
              "      <td>0.0000</td>\n",
              "    </tr>\n",
              "    <tr>\n",
              "      <th>3</th>\n",
              "      <td>0.0000</td>\n",
              "      <td>0.0000</td>\n",
              "      <td>0.0000</td>\n",
              "      <td>0.0000</td>\n",
              "      <td>0.0000</td>\n",
              "      <td>0.0000</td>\n",
              "      <td>0.0000</td>\n",
              "      <td>0.0000</td>\n",
              "      <td>0.1178</td>\n",
              "      <td>0.0000</td>\n",
              "      <td>0.1178</td>\n",
              "      <td>0.0000</td>\n",
              "      <td>0.1178</td>\n",
              "      <td>0.2357</td>\n",
              "      <td>0.2357</td>\n",
              "      <td>0.2357</td>\n",
              "    </tr>\n",
              "  </tbody>\n",
              "</table>\n",
              "</div>"
            ],
            "text/plain": [
              "       My  daughter      is   smart  ...  fluffy     has   short    tail\n",
              "0  0.1664    0.1733  0.1733  0.1664  ...  0.0000  0.0000  0.0000  0.0000\n",
              "1  0.0000    0.1386  0.0000  0.0000  ...  0.0000  0.0000  0.0000  0.0000\n",
              "2  0.0000    0.0000  0.1733  0.0000  ...  0.1733  0.0000  0.0000  0.0000\n",
              "3  0.0000    0.0000  0.0000  0.0000  ...  0.1178  0.2357  0.2357  0.2357\n",
              "\n",
              "[4 rows x 16 columns]"
            ]
          },
          "metadata": {
            "tags": []
          },
          "execution_count": 14
        }
      ]
    },
    {
      "cell_type": "code",
      "metadata": {
        "id": "ZSu7kBC6thyP",
        "colab_type": "code",
        "colab": {
          "base_uri": "https://localhost:8080/",
          "height": 34
        },
        "outputId": "e9f029d7-e784-4b10-d8b5-92f21c02c2de"
      },
      "source": [
        "count_vect = CountVectorizer()\n",
        "X_train_counts = count_vect.fit_transform(text)\n",
        "\n",
        "tfidf_transformer = TfidfTransformer()\n",
        "X_train_tfidf = tfidf_transformer.fit_transform(X_train_counts)\n",
        "X_train_tfidf.shape"
      ],
      "execution_count": 15,
      "outputs": [
        {
          "output_type": "execute_result",
          "data": {
            "text/plain": [
              "(4, 13)"
            ]
          },
          "metadata": {
            "tags": []
          },
          "execution_count": 15
        }
      ]
    },
    {
      "cell_type": "code",
      "metadata": {
        "id": "sYsR-Biztsim",
        "colab_type": "code",
        "colab": {
          "base_uri": "https://localhost:8080/",
          "height": 245
        },
        "outputId": "3d8f3682-03b1-4451-95fd-3ba569977601"
      },
      "source": [
        "count_vect.vocabulary_"
      ],
      "execution_count": 16,
      "outputs": [
        {
          "output_type": "execute_result",
          "data": {
            "text/plain": [
              "{'beautiful': 0,\n",
              " 'cute': 1,\n",
              " 'daughter': 2,\n",
              " 'fluffy': 3,\n",
              " 'has': 4,\n",
              " 'have': 5,\n",
              " 'is': 6,\n",
              " 'it': 7,\n",
              " 'my': 8,\n",
              " 'short': 9,\n",
              " 'smart': 10,\n",
              " 'tail': 11,\n",
              " 'very': 12}"
            ]
          },
          "metadata": {
            "tags": []
          },
          "execution_count": 16
        }
      ]
    }
  ]
}