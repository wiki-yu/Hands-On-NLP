{
  "nbformat": 4,
  "nbformat_minor": 0,
  "metadata": {
    "colab": {
      "name": "mcw_protocol_mapping_V1.1 _Reihaneh.ipynb",
      "provenance": [],
      "collapsed_sections": []
    },
    "kernelspec": {
      "name": "python3",
      "display_name": "Python 3"
    }
  },
  "cells": [
    {
      "cell_type": "code",
      "metadata": {
        "id": "Yu7wXSlp1fhx",
        "colab_type": "code",
        "colab": {}
      },
      "source": [
        "import pandas as pd\n",
        "import numpy as np\n",
        "import matplotlib.pyplot as plt\n",
        "from sklearn.feature_extraction.text import TfidfVectorizer\n",
        "from sklearn.feature_selection import chi2\n",
        "from sklearn.model_selection import train_test_split\n",
        "from sklearn.feature_extraction.text import CountVectorizer\n",
        "from sklearn.feature_extraction.text import TfidfTransformer\n",
        "from sklearn.naive_bayes import MultinomialNB"
      ],
      "execution_count": 0,
      "outputs": []
    },
    {
      "cell_type": "code",
      "metadata": {
        "id": "xZDzcpGP1rg2",
        "colab_type": "code",
        "outputId": "ed48dae2-38a5-47ae-87d7-bb341210d67f",
        "colab": {
          "base_uri": "https://localhost:8080/",
          "height": 199
        }
      },
      "source": [
        "df = pd.read_csv('coded.csv', names=['NO.', 'diagnosis', 'indication', 'protocol'], header=0)\n",
        "df.head(5)"
      ],
      "execution_count": 75,
      "outputs": [
        {
          "output_type": "execute_result",
          "data": {
            "text/html": [
              "<div>\n",
              "<style scoped>\n",
              "    .dataframe tbody tr th:only-of-type {\n",
              "        vertical-align: middle;\n",
              "    }\n",
              "\n",
              "    .dataframe tbody tr th {\n",
              "        vertical-align: top;\n",
              "    }\n",
              "\n",
              "    .dataframe thead th {\n",
              "        text-align: right;\n",
              "    }\n",
              "</style>\n",
              "<table border=\"1\" class=\"dataframe\">\n",
              "  <thead>\n",
              "    <tr style=\"text-align: right;\">\n",
              "      <th></th>\n",
              "      <th>NO.</th>\n",
              "      <th>diagnosis</th>\n",
              "      <th>indication</th>\n",
              "      <th>protocol</th>\n",
              "    </tr>\n",
              "  </thead>\n",
              "  <tbody>\n",
              "    <tr>\n",
              "      <th>0</th>\n",
              "      <td>44446</td>\n",
              "      <td>oichnilcnomragcaato lamisscooubrisl</td>\n",
              "      <td>oichnilcnomragcaato lamisscooubrisl, inrcutstboos</td>\n",
              "      <td>1</td>\n",
              "    </tr>\n",
              "    <tr>\n",
              "      <th>1</th>\n",
              "      <td>50987</td>\n",
              "      <td>barnco fa ualrrierg (*)</td>\n",
              "      <td>aaelnpsiep eart ceekh</td>\n",
              "      <td>2</td>\n",
              "    </tr>\n",
              "    <tr>\n",
              "      <th>2</th>\n",
              "      <td>26789</td>\n",
              "      <td>mturamaav auisdoctnalstarishilnuncbe of oichni...</td>\n",
              "      <td>gvcioincnn utc itersmoabplaaoipoy; ipaaolsrnav...</td>\n",
              "      <td>1</td>\n",
              "    </tr>\n",
              "    <tr>\n",
              "      <th>3</th>\n",
              "      <td>43310</td>\n",
              "      <td>smanaedo of ssiedmdo</td>\n",
              "      <td>begigr emov ssiedmdo ypssrcte</td>\n",
              "      <td>3</td>\n",
              "    </tr>\n",
              "    <tr>\n",
              "      <th>4</th>\n",
              "      <td>50548</td>\n",
              "      <td>afiliaccoicnt hcr nwyel (*)</td>\n",
              "      <td>afiliaccoicnt hcr nwyel with mturamaav aspemhs...</td>\n",
              "      <td>4</td>\n",
              "    </tr>\n",
              "  </tbody>\n",
              "</table>\n",
              "</div>"
            ],
            "text/plain": [
              "     NO.  ... protocol\n",
              "0  44446  ...        1\n",
              "1  50987  ...        2\n",
              "2  26789  ...        1\n",
              "3  43310  ...        3\n",
              "4  50548  ...        4\n",
              "\n",
              "[5 rows x 4 columns]"
            ]
          },
          "metadata": {
            "tags": []
          },
          "execution_count": 75
        }
      ]
    },
    {
      "cell_type": "code",
      "metadata": {
        "id": "UkeVu04z6SJJ",
        "colab_type": "code",
        "outputId": "12d467e9-0c5c-48fc-9136-c9ed5a1007d8",
        "colab": {
          "base_uri": "https://localhost:8080/",
          "height": 199
        }
      },
      "source": [
        "df = df.drop(df.columns[0], axis=1)\n",
        "df['comb'] = df[\"diagnosis\"].str.cat(df[\"indication\"],sep=\" \")\n",
        "df.head(5)"
      ],
      "execution_count": 76,
      "outputs": [
        {
          "output_type": "execute_result",
          "data": {
            "text/html": [
              "<div>\n",
              "<style scoped>\n",
              "    .dataframe tbody tr th:only-of-type {\n",
              "        vertical-align: middle;\n",
              "    }\n",
              "\n",
              "    .dataframe tbody tr th {\n",
              "        vertical-align: top;\n",
              "    }\n",
              "\n",
              "    .dataframe thead th {\n",
              "        text-align: right;\n",
              "    }\n",
              "</style>\n",
              "<table border=\"1\" class=\"dataframe\">\n",
              "  <thead>\n",
              "    <tr style=\"text-align: right;\">\n",
              "      <th></th>\n",
              "      <th>diagnosis</th>\n",
              "      <th>indication</th>\n",
              "      <th>protocol</th>\n",
              "      <th>comb</th>\n",
              "    </tr>\n",
              "  </thead>\n",
              "  <tbody>\n",
              "    <tr>\n",
              "      <th>0</th>\n",
              "      <td>oichnilcnomragcaato lamisscooubrisl</td>\n",
              "      <td>oichnilcnomragcaato lamisscooubrisl, inrcutstboos</td>\n",
              "      <td>1</td>\n",
              "      <td>oichnilcnomragcaato lamisscooubrisl oichnilcno...</td>\n",
              "    </tr>\n",
              "    <tr>\n",
              "      <th>1</th>\n",
              "      <td>barnco fa ualrrierg (*)</td>\n",
              "      <td>aaelnpsiep eart ceekh</td>\n",
              "      <td>2</td>\n",
              "      <td>barnco fa ualrrierg (*) aaelnpsiep eart ceekh</td>\n",
              "    </tr>\n",
              "    <tr>\n",
              "      <th>2</th>\n",
              "      <td>mturamaav auisdoctnalstarishilnuncbe of oichni...</td>\n",
              "      <td>gvcioincnn utc itersmoabplaaoipoy; ipaaolsrnav...</td>\n",
              "      <td>1</td>\n",
              "      <td>mturamaav auisdoctnalstarishilnuncbe of oichni...</td>\n",
              "    </tr>\n",
              "    <tr>\n",
              "      <th>3</th>\n",
              "      <td>smanaedo of ssiedmdo</td>\n",
              "      <td>begigr emov ssiedmdo ypssrcte</td>\n",
              "      <td>3</td>\n",
              "      <td>smanaedo of ssiedmdo begigr emov ssiedmdo ypss...</td>\n",
              "    </tr>\n",
              "    <tr>\n",
              "      <th>4</th>\n",
              "      <td>afiliaccoicnt hcr nwyel (*)</td>\n",
              "      <td>afiliaccoicnt hcr nwyel with mturamaav aspemhs...</td>\n",
              "      <td>4</td>\n",
              "      <td>afiliaccoicnt hcr nwyel (*) afiliaccoicnt hcr ...</td>\n",
              "    </tr>\n",
              "  </tbody>\n",
              "</table>\n",
              "</div>"
            ],
            "text/plain": [
              "                                           diagnosis  ...                                               comb\n",
              "0                oichnilcnomragcaato lamisscooubrisl  ...  oichnilcnomragcaato lamisscooubrisl oichnilcno...\n",
              "1                            barnco fa ualrrierg (*)  ...      barnco fa ualrrierg (*) aaelnpsiep eart ceekh\n",
              "2  mturamaav auisdoctnalstarishilnuncbe of oichni...  ...  mturamaav auisdoctnalstarishilnuncbe of oichni...\n",
              "3                               smanaedo of ssiedmdo  ...  smanaedo of ssiedmdo begigr emov ssiedmdo ypss...\n",
              "4                        afiliaccoicnt hcr nwyel (*)  ...  afiliaccoicnt hcr nwyel (*) afiliaccoicnt hcr ...\n",
              "\n",
              "[5 rows x 4 columns]"
            ]
          },
          "metadata": {
            "tags": []
          },
          "execution_count": 76
        }
      ]
    },
    {
      "cell_type": "code",
      "metadata": {
        "id": "MycaDpRZLKJR",
        "colab_type": "code",
        "colab": {}
      },
      "source": [
        "df['comb'] = df['comb'].astype(str) #int to string\n",
        "df['indication'] = df['indication'].astype(str) #int to string"
      ],
      "execution_count": 0,
      "outputs": []
    },
    {
      "cell_type": "code",
      "metadata": {
        "id": "EwV52rbkZI4j",
        "colab_type": "code",
        "outputId": "3b51d304-6a2f-4861-e7c8-a1e4039123f0",
        "colab": {
          "base_uri": "https://localhost:8080/",
          "height": 34
        }
      },
      "source": [
        "#seperate training and test data\n",
        "X_train, X_test, y_train, y_test = train_test_split(df['indication'], df['protocol'], random_state = 0)\n",
        "print(X_train.shape, y_train.shape, X_test.shape, y_test.shape)\n"
      ],
      "execution_count": 78,
      "outputs": [
        {
          "output_type": "stream",
          "text": [
            "(38505,) (38505,) (12835,) (12835,)\n"
          ],
          "name": "stdout"
        }
      ]
    },
    {
      "cell_type": "code",
      "metadata": {
        "id": "_8us0TCChvWs",
        "colab_type": "code",
        "colab": {
          "base_uri": "https://localhost:8080/",
          "height": 70
        },
        "outputId": "9fdbfacb-3ff5-4b16-c7ad-9b9a311310b3"
      },
      "source": [
        "X_train[0:2]"
      ],
      "execution_count": 79,
      "outputs": [
        {
          "output_type": "execute_result",
          "data": {
            "text/plain": [
              "38975    lrpvravaalua\n",
              "39706    ssiedmdo dic\n",
              "Name: indication, dtype: object"
            ]
          },
          "metadata": {
            "tags": []
          },
          "execution_count": 79
        }
      ]
    },
    {
      "cell_type": "code",
      "metadata": {
        "id": "Lbqozottai76",
        "colab_type": "code",
        "colab": {
          "base_uri": "https://localhost:8080/",
          "height": 34
        },
        "outputId": "cef4b838-1ff3-48ae-b92b-46d5b3545f75"
      },
      "source": [
        "#build CountVectorizer\n",
        "count_vect = CountVectorizer(ngram_range=(1,2))\n",
        "X_train_counts = count_vect.fit_transform(X_train)\n",
        "print(X_train_counts.shape)"
      ],
      "execution_count": 80,
      "outputs": [
        {
          "output_type": "stream",
          "text": [
            "(38505, 61260)\n"
          ],
          "name": "stdout"
        }
      ]
    },
    {
      "cell_type": "code",
      "metadata": {
        "id": "uijmTIYhhG5T",
        "colab_type": "code",
        "colab": {
          "base_uri": "https://localhost:8080/",
          "height": 913
        },
        "outputId": "883120a3-bb64-4977-f3bb-ff07b88a6820"
      },
      "source": [
        "#build TfidfTransformer\n",
        "tfidf_transformer = TfidfTransformer()\n",
        "X_train_tfidf = tfidf_transformer.fit_transform(X_train_counts)\n",
        "print(X_train_tfidf)"
      ],
      "execution_count": 81,
      "outputs": [
        {
          "output_type": "stream",
          "text": [
            "  (0, 33062)\t1.0\n",
            "  (1, 50860)\t0.6277130608272921\n",
            "  (1, 50836)\t0.5180485855778103\n",
            "  (1, 14757)\t0.581035262482117\n",
            "  (2, 40771)\t0.25293920314797613\n",
            "  (2, 40766)\t0.21962226857997558\n",
            "  (2, 30346)\t0.14131034250609506\n",
            "  (2, 30279)\t0.12592660038616266\n",
            "  (2, 28257)\t0.2719087675285945\n",
            "  (2, 28242)\t0.23492052403193253\n",
            "  (2, 25191)\t0.20867227925741805\n",
            "  (2, 24363)\t0.2687318039652264\n",
            "  (2, 24205)\t0.07087525840748465\n",
            "  (2, 22645)\t0.16533313600681648\n",
            "  (2, 22439)\t0.09929750385185021\n",
            "  (2, 22198)\t0.2793467865668677\n",
            "  (2, 22143)\t0.18754163410556432\n",
            "  (2, 12821)\t0.3316332855154866\n",
            "  (2, 12760)\t0.16143737611284376\n",
            "  (2, 4409)\t0.3255559814547858\n",
            "  (2, 4408)\t0.31204065835581185\n",
            "  (2, 2047)\t0.2631634088454576\n",
            "  (2, 2039)\t0.20736493961255428\n",
            "  (3, 56797)\t0.25965835720216984\n",
            "  (3, 56790)\t0.23292576565911868\n",
            "  :\t:\n",
            "  (38502, 23747)\t0.19727161615891575\n",
            "  (38502, 23746)\t0.10504111557102254\n",
            "  (38502, 21404)\t0.20491856505995226\n",
            "  (38502, 21403)\t0.1787734740785332\n",
            "  (38502, 15411)\t0.20491856505995226\n",
            "  (38502, 15407)\t0.18763759990409026\n",
            "  (38502, 10400)\t0.16821929013278694\n",
            "  (38502, 10374)\t0.14046127691192145\n",
            "  (38502, 10147)\t0.18419907066820623\n",
            "  (38502, 10144)\t0.1188363432146586\n",
            "  (38502, 5822)\t0.20491856505995226\n",
            "  (38502, 5782)\t0.10183244049354989\n",
            "  (38502, 3962)\t0.15148502112612242\n",
            "  (38502, 3953)\t0.10508844231242304\n",
            "  (38502, 1994)\t0.12506460121760796\n",
            "  (38502, 1962)\t0.10067266757294176\n",
            "  (38502, 708)\t0.1645575666168319\n",
            "  (38503, 54839)\t0.5459500820679104\n",
            "  (38503, 54821)\t0.21757669244234795\n",
            "  (38503, 50847)\t0.37180877668151646\n",
            "  (38503, 50836)\t0.23409099523254984\n",
            "  (38503, 28968)\t0.5459500820679104\n",
            "  (38503, 28940)\t0.33036925630868513\n",
            "  (38503, 6172)\t0.233137711890647\n",
            "  (38504, 49239)\t1.0\n"
          ],
          "name": "stdout"
        }
      ]
    },
    {
      "cell_type": "code",
      "metadata": {
        "id": "kVHWTHLwZcKL",
        "colab_type": "code",
        "outputId": "eb468ca2-4533-4840-f5a5-afd3baf37ecc",
        "colab": {
          "base_uri": "https://localhost:8080/",
          "height": 34
        }
      },
      "source": [
        "clf = MultinomialNB(alpha=0.01)\n",
        "clf.fit(X_train_tfidf, y_train)"
      ],
      "execution_count": 82,
      "outputs": [
        {
          "output_type": "execute_result",
          "data": {
            "text/plain": [
              "MultinomialNB(alpha=0.01, class_prior=None, fit_prior=True)"
            ]
          },
          "metadata": {
            "tags": []
          },
          "execution_count": 82
        }
      ]
    },
    {
      "cell_type": "code",
      "metadata": {
        "id": "mid55hC8jHI5",
        "colab_type": "code",
        "colab": {
          "base_uri": "https://localhost:8080/",
          "height": 34
        },
        "outputId": "f200ff9b-39e2-4f12-cc6f-043ccb0bfa0f"
      },
      "source": [
        "pred = clf.predict(count_vect.transform(X_test))\n",
        "actual = y_test.values\n",
        "print(len(pred), len(actual))"
      ],
      "execution_count": 83,
      "outputs": [
        {
          "output_type": "stream",
          "text": [
            "12835 12835\n"
          ],
          "name": "stdout"
        }
      ]
    },
    {
      "cell_type": "code",
      "metadata": {
        "id": "OyRXHEVUbhFU",
        "colab_type": "code",
        "outputId": "2458983a-bb1f-4e3b-b961-9d30ab1967b8",
        "colab": {
          "base_uri": "https://localhost:8080/",
          "height": 34
        }
      },
      "source": [
        "total = len(actual)\n",
        "correct = 0\n",
        "for i in range(len(pred)):\n",
        "    if pred[i] == actual[i]:\n",
        "        correct += 1\n",
        "print(\"For the dominant protocols, the accuracy of 1 to 1 mapping is {:0.2f}%\".format((correct / total) * 100))"
      ],
      "execution_count": 84,
      "outputs": [
        {
          "output_type": "stream",
          "text": [
            "For the dominant protocols, the accuracy of 1 to 1 mapping is 69.52%\n"
          ],
          "name": "stdout"
        }
      ]
    }
  ]
}